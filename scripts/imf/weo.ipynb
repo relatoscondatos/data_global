{
 "cells": [
  {
   "cell_type": "code",
   "execution_count": 43,
   "id": "b2382aef",
   "metadata": {},
   "outputs": [],
   "source": [
    "import pandas as pd\n",
    "\n",
    "# Path to your downloaded full data file\n",
    "file_path = '../../data/source/imf/WEOApr2024all.xls'\n",
    "\n",
    "# Load the file using pandas\n",
    "data = pd.read_csv(file_path, delimiter='\\t', encoding='utf-8-sig')\n"
   ]
  },
  {
   "cell_type": "code",
   "execution_count": 45,
   "id": "1d63bea7",
   "metadata": {},
   "outputs": [],
   "source": [
    "# Select columns that should not be melted (i.e., identifiers)\n",
    "id_vars = ['WEO Country Code', 'ISO', 'WEO Subject Code', 'Country', \n",
    "           'Subject Descriptor', 'Subject Notes', 'Units', 'Scale', \n",
    "           'Country/Series-specific Notes']\n",
    "\n",
    "# Define the value_vars, which are the years in your dataset\n",
    "year_columns = [str(year) for year in range(1980, 2030)]  # Adjust the range as necessary\n",
    "\n",
    "# Melt the data so that years become rows\n",
    "data_long = pd.melt(data, id_vars=id_vars, value_vars=year_columns, \n",
    "                    var_name='Year', value_name='Value')\n",
    "\n",
    "# Convert 'Year' to a numeric type\n",
    "data_long['Year'] = data_long['Year'].astype(int)\n"
   ]
  },
  {
   "cell_type": "code",
   "execution_count": 49,
   "id": "3590fdf8",
   "metadata": {},
   "outputs": [],
   "source": [
    "# Path to save the transformed data\n",
    "output_file_path = '../../data/processed/imf/WEOApr2024all.parquet'\n",
    "\n",
    "# Save the DataFrame as a Parquet file\n",
    "data_long.to_parquet(output_file_path, index=False)"
   ]
  },
  {
   "cell_type": "code",
   "execution_count": null,
   "id": "b8d5e53f",
   "metadata": {},
   "outputs": [],
   "source": []
  }
 ],
 "metadata": {
  "kernelspec": {
   "display_name": "Python 3 (ipykernel)",
   "language": "python",
   "name": "python3"
  },
  "language_info": {
   "codemirror_mode": {
    "name": "ipython",
    "version": 3
   },
   "file_extension": ".py",
   "mimetype": "text/x-python",
   "name": "python",
   "nbconvert_exporter": "python",
   "pygments_lexer": "ipython3",
   "version": "3.11.7"
  }
 },
 "nbformat": 4,
 "nbformat_minor": 5
}
